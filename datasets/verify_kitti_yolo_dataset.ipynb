{
 "cells": [
  {
   "cell_type": "code",
   "execution_count": 1,
   "id": "588e4d0a",
   "metadata": {},
   "outputs": [],
   "source": [
    "import os\n",
    "import cv2\n",
    "import matplotlib.pyplot as plt\n",
    "from pathlib import Path\n",
    "from collections import defaultdict"
   ]
  },
  {
   "cell_type": "code",
   "execution_count": 2,
   "id": "b3a764ce",
   "metadata": {},
   "outputs": [],
   "source": [
    "# Paths\n",
    "BASE_DIR = Path(\"../datasets/processed\")\n",
    "CLASS_NAMES = [\"pedestrian\", \"car\", \"cyclist\"]\n",
    "NUM_CLASSES = len(CLASS_NAMES)"
   ]
  },
  {
   "cell_type": "code",
   "execution_count": null,
   "id": "4e56a1a0",
   "metadata": {},
   "outputs": [],
   "source": [
    "# Validate and separate data-label pairs\n",
    "def validate_yolo_dataset(split=\"train\"):\n",
    "    print(f\"\\nChecking {split.upper()} set...\")\n",
    "    image_dir = BASE_DIR / split / \"images\"\n",
    "    label_dir = BASE_DIR / split / \"labels\"\n",
    "\n",
    "    image_paths = sorted(list(image_dir.glob(\"*.png\")))\n",
    "    label_paths = sorted(list(label_dir.glob(\"*.txt\")))\n",
    "\n",
    "    valid_data = []\n",
    "    invalid_data = []\n",
    "\n",
    "    for img_path in image_paths:\n",
    "        label_path = label_dir / f\"{img_path.stem}.txt\"\n",
    "\n",
    "        if not label_path.exists():\n",
    "            print(f\"Missing label for {img_path.name}\")\n",
    "            invalid_data.append((img_path, None))\n",
    "            continue\n",
    "\n",
    "        with open(label_path, 'r') as f:\n",
    "            lines = f.readlines()\n",
    "\n",
    "        valid = True\n",
    "        for line in lines:\n",
    "            parts = line.strip().split()\n",
    "            if len(parts) != 5:\n",
    "                print(f\"Invalid line format in {label_path.name}: {line}\")\n",
    "                valid = False\n",
    "                break\n",
    "\n",
    "            cls_id, x, y, w, h = map(float, parts)\n",
    "            if not (0 <= cls_id < NUM_CLASSES):\n",
    "                print(f\"Invalid class ID in {label_path.name}: {cls_id}\")\n",
    "                valid = False\n",
    "                break\n",
    "            if not all(0 <= v <= 1 for v in [x, y, w, h]):\n",
    "                print(f\"Out-of-bounds values in {label_path.name}: {line}\")\n",
    "                valid = False\n",
    "                break\n",
    "\n",
    "        if valid:\n",
    "            valid_data.append((img_path, label_path))\n",
    "        else:\n",
    "            invalid_data.append((img_path, label_path))\n",
    "\n",
    "    print(f\"✅ Valid samples: {len(valid_data)}\")\n",
    "    print(f\"❌ Invalid samples: {len(invalid_data)}\")\n",
    "    return valid_data, invalid_data"
   ]
  },
  {
   "cell_type": "code",
   "execution_count": null,
   "id": "6ce07951",
   "metadata": {},
   "outputs": [],
   "source": [
    "# Run for both splits\n",
    "train_data, train_invalid = validate_yolo_dataset(\"train\")\n",
    "val_data, val_invalid = validate_yolo_dataset(\"val\")"
   ]
  },
  {
   "cell_type": "code",
   "execution_count": null,
   "id": "abf33ba7",
   "metadata": {},
   "outputs": [],
   "source": [
    "# Visualize a few valid samples\n",
    "def show_yolo_sample(data_pair):\n",
    "    img_path, label_path = data_pair\n",
    "    img = cv2.imread(str(img_path))\n",
    "    img = cv2.cvtColor(img, cv2.COLOR_BGR2RGB)\n",
    "    h, w = img.shape[:2]\n",
    "\n",
    "    with open(label_path, 'r') as f:\n",
    "        for line in f:\n",
    "            cls_id, x, y, bw, bh = map(float, line.strip().split())\n",
    "            cls_id = int(cls_id)\n",
    "            x1 = int((x - bw/2) * w)\n",
    "            y1 = int((y - bh/2) * h)\n",
    "            x2 = int((x + bw/2) * w)\n",
    "            y2 = int((y + bh/2) * h)\n",
    "\n",
    "            color = (0, 255, 0) if cls_id == 1 else (255, 0, 0) if cls_id == 0 else (255, 255, 0)\n",
    "            cv2.rectangle(img, (x1, y1), (x2, y2), color, 2)\n",
    "            cv2.putText(img, CLASS_NAMES[cls_id], (x1, y1 - 10), cv2.FONT_HERSHEY_SIMPLEX, 0.6, color, 2)\n",
    "\n",
    "    plt.figure(figsize=(10, 6))\n",
    "    plt.imshow(img)\n",
    "    plt.title(img_path.name)\n",
    "    plt.axis(\"off\")\n",
    "    plt.show()"
   ]
  },
  {
   "cell_type": "code",
   "execution_count": null,
   "id": "8f51a03d",
   "metadata": {},
   "outputs": [],
   "source": [
    "# Show 3 random valid samples from train\n",
    "import random\n",
    "for _ in range(3):\n",
    "    show_yolo_sample(random.choice(train_data))"
   ]
  }
 ],
 "metadata": {
  "kernelspec": {
   "display_name": "base",
   "language": "python",
   "name": "python3"
  },
  "language_info": {
   "codemirror_mode": {
    "name": "ipython",
    "version": 3
   },
   "file_extension": ".py",
   "mimetype": "text/x-python",
   "name": "python",
   "nbconvert_exporter": "python",
   "pygments_lexer": "ipython3",
   "version": "3.12.8"
  }
 },
 "nbformat": 4,
 "nbformat_minor": 5
}
